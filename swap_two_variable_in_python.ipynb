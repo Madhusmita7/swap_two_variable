{
  "nbformat": 4,
  "nbformat_minor": 0,
  "metadata": {
    "colab": {
      "provenance": []
    },
    "kernelspec": {
      "name": "python3",
      "display_name": "Python 3"
    },
    "language_info": {
      "name": "python"
    }
  },
  "cells": [
    {
      "cell_type": "markdown",
      "source": [
        "using third variable (temp)"
      ],
      "metadata": {
        "id": "v_WLq5RyZ6PL"
      }
    },
    {
      "cell_type": "code",
      "source": [
        "a= 3\n",
        "b= 4\n",
        "temp= a\n",
        "a= b\n",
        "b= temp"
      ],
      "metadata": {
        "id": "OrkB68oZZ_37"
      },
      "execution_count": null,
      "outputs": []
    },
    {
      "cell_type": "code",
      "source": [
        "a"
      ],
      "metadata": {
        "colab": {
          "base_uri": "https://localhost:8080/"
        },
        "id": "Eq43aqr0Z_7V",
        "outputId": "994439c4-e69d-45b3-93a0-a9fc68e5b1c0"
      },
      "execution_count": null,
      "outputs": [
        {
          "output_type": "execute_result",
          "data": {
            "text/plain": [
              "4"
            ]
          },
          "metadata": {},
          "execution_count": 15
        }
      ]
    },
    {
      "cell_type": "code",
      "source": [
        "b"
      ],
      "metadata": {
        "colab": {
          "base_uri": "https://localhost:8080/"
        },
        "id": "VQhaBgqbaFP8",
        "outputId": "62d01e88-6288-4878-aa32-c8f44665f0dd"
      },
      "execution_count": null,
      "outputs": [
        {
          "output_type": "execute_result",
          "data": {
            "text/plain": [
              "3"
            ]
          },
          "metadata": {},
          "execution_count": 16
        }
      ]
    },
    {
      "cell_type": "markdown",
      "source": [
        "without using third variable(using operators)"
      ],
      "metadata": {
        "id": "fmjGi3ZBYdii"
      }
    },
    {
      "cell_type": "code",
      "source": [
        "a1= 5\n",
        "b1= 6"
      ],
      "metadata": {
        "id": "BtOMdgRLX-ht"
      },
      "execution_count": null,
      "outputs": []
    },
    {
      "cell_type": "code",
      "source": [
        "a1= a1+ b1 # a1=5+6=11, a1=11,b1=6\n",
        "b1= a1- b1 # b1=11-6=5, a1=11, b1=5\n",
        "a1= a1- b1 # a1=11-5=6, a1=6, b1=5 done"
      ],
      "metadata": {
        "id": "HbXJk5oGX-kO"
      },
      "execution_count": null,
      "outputs": []
    },
    {
      "cell_type": "code",
      "source": [
        "print(a1)\n",
        "print(b1)"
      ],
      "metadata": {
        "colab": {
          "base_uri": "https://localhost:8080/"
        },
        "id": "nEkA_hEDX-ml",
        "outputId": "94b25da1-0083-4867-91b3-a1a4f0e53e17"
      },
      "execution_count": null,
      "outputs": [
        {
          "output_type": "stream",
          "name": "stdout",
          "text": [
            "6\n",
            "5\n"
          ]
        }
      ]
    },
    {
      "cell_type": "markdown",
      "source": [
        "using binary number system"
      ],
      "metadata": {
        "id": "oY3prOeOY-BM"
      }
    },
    {
      "cell_type": "code",
      "source": [
        "a= 5\n",
        "b= 6"
      ],
      "metadata": {
        "id": "RzK6PkUUX-o9"
      },
      "execution_count": null,
      "outputs": []
    },
    {
      "cell_type": "code",
      "source": [
        "bin(a)"
      ],
      "metadata": {
        "id": "5ZIqs2vXZLyC",
        "colab": {
          "base_uri": "https://localhost:8080/",
          "height": 35
        },
        "outputId": "e26b5f3a-4f32-482d-b36c-3b40f583c23f"
      },
      "execution_count": null,
      "outputs": [
        {
          "output_type": "execute_result",
          "data": {
            "text/plain": [
              "'0b101'"
            ],
            "application/vnd.google.colaboratory.intrinsic+json": {
              "type": "string"
            }
          },
          "metadata": {},
          "execution_count": 18
        }
      ]
    },
    {
      "cell_type": "code",
      "source": [
        "bin(b)"
      ],
      "metadata": {
        "id": "5BYE1MQuZL1Z",
        "colab": {
          "base_uri": "https://localhost:8080/",
          "height": 35
        },
        "outputId": "b38b4322-f8a1-4b2d-9de3-36590f5f7e33"
      },
      "execution_count": null,
      "outputs": [
        {
          "output_type": "execute_result",
          "data": {
            "text/plain": [
              "'0b110'"
            ],
            "application/vnd.google.colaboratory.intrinsic+json": {
              "type": "string"
            }
          },
          "metadata": {},
          "execution_count": 19
        }
      ]
    },
    {
      "cell_type": "code",
      "source": [
        "a= print(int(0b110))"
      ],
      "metadata": {
        "id": "CRrJho_5X-sj",
        "colab": {
          "base_uri": "https://localhost:8080/"
        },
        "outputId": "480fb620-5913-4cbe-90c1-09ce60c569a4"
      },
      "execution_count": null,
      "outputs": [
        {
          "output_type": "stream",
          "name": "stdout",
          "text": [
            "6\n"
          ]
        }
      ]
    },
    {
      "cell_type": "code",
      "source": [
        "b= print(int(0b101))"
      ],
      "metadata": {
        "colab": {
          "base_uri": "https://localhost:8080/"
        },
        "id": "6CeHEIOMhUAc",
        "outputId": "df5e302c-f422-47ea-a47f-75e06563ce02"
      },
      "execution_count": null,
      "outputs": [
        {
          "output_type": "stream",
          "name": "stdout",
          "text": [
            "5\n"
          ]
        }
      ]
    },
    {
      "cell_type": "markdown",
      "source": [
        "using XOR"
      ],
      "metadata": {
        "id": "8x6cvD30ZNPy"
      }
    },
    {
      "cell_type": "code",
      "source": [
        "a=5\n",
        "b=6"
      ],
      "metadata": {
        "id": "oBRQx2osZdsT"
      },
      "execution_count": 1,
      "outputs": []
    },
    {
      "cell_type": "code",
      "source": [
        "a = a ^ b\n",
        "b = a ^ b\n",
        "a = a ^ b"
      ],
      "metadata": {
        "id": "YvVEQLbusOz4"
      },
      "execution_count": 2,
      "outputs": []
    },
    {
      "cell_type": "code",
      "source": [
        "a"
      ],
      "metadata": {
        "id": "qz72aWrrsPLj",
        "colab": {
          "base_uri": "https://localhost:8080/"
        },
        "outputId": "e06d57c2-1b04-44c2-d63b-bf6d56b81b4c"
      },
      "execution_count": 3,
      "outputs": [
        {
          "output_type": "execute_result",
          "data": {
            "text/plain": [
              "6"
            ]
          },
          "metadata": {},
          "execution_count": 3
        }
      ]
    },
    {
      "cell_type": "code",
      "source": [
        "b"
      ],
      "metadata": {
        "id": "UQOt5hfzZdvw",
        "colab": {
          "base_uri": "https://localhost:8080/"
        },
        "outputId": "fd5bf53b-837c-46bc-980c-590cc97fe3db"
      },
      "execution_count": 4,
      "outputs": [
        {
          "output_type": "execute_result",
          "data": {
            "text/plain": [
              "5"
            ]
          },
          "metadata": {},
          "execution_count": 4
        }
      ]
    },
    {
      "cell_type": "markdown",
      "source": [
        "ROT_two"
      ],
      "metadata": {
        "id": "aJhDv3NZZePu"
      }
    },
    {
      "cell_type": "code",
      "source": [
        "a=2\n",
        "b=3"
      ],
      "metadata": {
        "id": "rmh6IXuwZPsT"
      },
      "execution_count": null,
      "outputs": []
    },
    {
      "cell_type": "code",
      "source": [
        "a,b = b, a"
      ],
      "metadata": {
        "id": "8Zk-sW3JZtrb"
      },
      "execution_count": null,
      "outputs": []
    },
    {
      "cell_type": "code",
      "source": [
        "a"
      ],
      "metadata": {
        "colab": {
          "base_uri": "https://localhost:8080/"
        },
        "id": "6r_1zUtyZtu7",
        "outputId": "6f3f676a-9d5c-4fec-f32c-d5f849ae37d7"
      },
      "execution_count": null,
      "outputs": [
        {
          "output_type": "execute_result",
          "data": {
            "text/plain": [
              "3"
            ]
          },
          "metadata": {},
          "execution_count": 12
        }
      ]
    },
    {
      "cell_type": "code",
      "source": [
        "b"
      ],
      "metadata": {
        "colab": {
          "base_uri": "https://localhost:8080/"
        },
        "id": "mtFBGDbTZ2Rh",
        "outputId": "f6b9c484-a40d-48b6-8999-3cb5c905901f"
      },
      "execution_count": null,
      "outputs": [
        {
          "output_type": "execute_result",
          "data": {
            "text/plain": [
              "2"
            ]
          },
          "metadata": {},
          "execution_count": 13
        }
      ]
    },
    {
      "cell_type": "code",
      "source": [],
      "metadata": {
        "id": "H-pmP9WjZ2Yr"
      },
      "execution_count": null,
      "outputs": []
    }
  ]
}